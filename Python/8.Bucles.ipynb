{
 "cells": [
  {
   "cell_type": "markdown",
   "metadata": {},
   "source": [
    "<div style=\"text-align: center;\">\n",
    "  <img src=\"https://github.com/Hack-io-Data/Imagenes/blob/main/01-LogosHackio/logo_celeste@4x.png?raw=true\" alt=\"logo hack(io)\" />\n",
    "</div>"
   ]
  },
  {
   "cell_type": "markdown",
   "metadata": {},
   "source": [
    "####  1. Genera una lista de números del 0 al 4 y luego imprime cada número en la lista usando un `bucle for`. "
   ]
  },
  {
   "cell_type": "code",
   "execution_count": 8,
   "metadata": {},
   "outputs": [
    {
     "name": "stdout",
     "output_type": "stream",
     "text": [
      "0\n",
      "1\n",
      "2\n",
      "3\n",
      "4\n"
     ]
    }
   ],
   "source": [
    "Numeros = [0,1,2,3,4]\n",
    "for numero in Numeros:\n",
    "    print(numero)\n"
   ]
  },
  {
   "cell_type": "markdown",
   "metadata": {},
   "source": [
    "#### 2. Itera sobre una lista de frutas y muestra cada fruta en mayúsculas. \n"
   ]
  },
  {
   "cell_type": "code",
   "execution_count": 10,
   "metadata": {},
   "outputs": [
    {
     "name": "stdout",
     "output_type": "stream",
     "text": [
      "MANZANA\n",
      "BANANA\n",
      "CEREZA\n"
     ]
    }
   ],
   "source": [
    "Frutas = [\"manzana\", \"banana\", \"cereza\"]\n",
    "for fruta in Frutas:\n",
    "    print(fruta.upper())"
   ]
  },
  {
   "cell_type": "markdown",
   "metadata": {},
   "source": [
    "####  3. Genera un bucle while que imprima los números del 0 al 4. \n"
   ]
  },
  {
   "cell_type": "code",
   "execution_count": 19,
   "metadata": {},
   "outputs": [
    {
     "name": "stdout",
     "output_type": "stream",
     "text": [
      "0\n",
      "1\n",
      "2\n",
      "3\n",
      "4\n"
     ]
    }
   ],
   "source": [
    "x = 0\n",
    "while x<5:\n",
    "   print(x)\n",
    "   x += 1"
   ]
  },
  {
   "cell_type": "markdown",
   "metadata": {},
   "source": [
    "#### 4. Genera un bucle del 0 al 9, pero que se detenga en el 5.\n"
   ]
  },
  {
   "cell_type": "code",
   "execution_count": 94,
   "metadata": {},
   "outputs": [
    {
     "name": "stdout",
     "output_type": "stream",
     "text": [
      "0\n",
      "1\n",
      "2\n",
      "3\n",
      "4\n",
      "5\n"
     ]
    }
   ],
   "source": [
    "Buclenumeros = [0,1,2,3,4,5,6,7,8,9]\n",
    "for numero in Buclenumeros:\n",
    "    print(numero)\n",
    "    if numero == 5: \n",
    "        break"
   ]
  },
  {
   "cell_type": "markdown",
   "metadata": {},
   "source": [
    "#### 5. Recorre los números del 0 al 9 e imprime solo los números impares."
   ]
  },
  {
   "cell_type": "code",
   "execution_count": 97,
   "metadata": {},
   "outputs": [
    {
     "name": "stdout",
     "output_type": "stream",
     "text": [
      "1\n",
      "3\n",
      "5\n",
      "7\n",
      "9\n"
     ]
    }
   ],
   "source": [
    "RecorreNumeros = [0,1,2,3,4,5,6,7,8,9,]\n",
    "\n",
    "for numero in RecorreNumeros:\n",
    "    if numero % 2!=0:\n",
    "         print(numero)\n"
   ]
  },
  {
   "cell_type": "markdown",
   "metadata": {},
   "source": [
    "#### 6. Dada la lista `[10, 20, 30, 40, 50]`, calcula la suma de todos los elementos usando un bucle `for`."
   ]
  },
  {
   "cell_type": "code",
   "execution_count": 98,
   "metadata": {},
   "outputs": [
    {
     "name": "stdout",
     "output_type": "stream",
     "text": [
      "150\n"
     ]
    }
   ],
   "source": [
    "Lista_Numeros = [10, 20, 30, 40, 50]\n",
    "for numero in Lista_Numeros:\n",
    "    sum(Lista_Numeros)\n",
    "print(sum(Lista_Numeros))"
   ]
  },
  {
   "cell_type": "markdown",
   "metadata": {},
   "source": [
    "#### 7. Dada la cadena `\"Hola mundo\"`, cuenta cuántas veces aparecen las vocales (`a`, `e`, `i`, `o`, `u`) usando un bucle `for`.\n"
   ]
  },
  {
   "cell_type": "code",
   "execution_count": 121,
   "metadata": {},
   "outputs": [
    {
     "name": "stdout",
     "output_type": "stream",
     "text": [
      "La a aparece 1 veces\n",
      "La e aparece 0 veces\n",
      "La i aparece 0 veces\n",
      "La o aparece 2 veces\n",
      "La u aparece 1 veces\n"
     ]
    }
   ],
   "source": [
    "Textonuevo = 'Hola mundo'\n",
    "vocalesa = 'a'\n",
    "vocalese = 'e'\n",
    "vocalesi = 'i'\n",
    "vocaleso = 'o'\n",
    "vocalesu = 'u'\n",
    "for i in Textonuevo:\n",
    "    for i in vocalesa:\n",
    "        (Textonuevo.count(vocalesa))\n",
    "        (Textonuevo.count(vocalese))\n",
    "        (Textonuevo.count(vocalesi))\n",
    "        (Textonuevo.count(vocaleso))\n",
    "        (Textonuevo.count(vocalesu))\n",
    "print(f'La {vocalesa} aparece {Textonuevo.count(vocalesa)} veces')\n",
    "print(f'La {vocalese} aparece {Textonuevo.count(vocalese)} veces')\n",
    "print(f'La {vocalesi} aparece {Textonuevo.count(vocalesi)} veces')\n",
    "print(f'La {vocaleso} aparece {Textonuevo.count(vocaleso)} veces')\n",
    "print(f'La {vocalesu} aparece {Textonuevo.count(vocalesu)} veces')\n",
    "\n"
   ]
  },
  {
   "cell_type": "code",
   "execution_count": 123,
   "metadata": {},
   "outputs": [
    {
     "name": "stdout",
     "output_type": "stream",
     "text": [
      "Le leta a aparece 1\n",
      "Le leta e aparece 0\n",
      "Le leta i aparece 0\n",
      "Le leta o aparece 2\n",
      "Le leta u aparece 1\n"
     ]
    }
   ],
   "source": [
    "Textonuevo = 'Hola mundo'\n",
    "for i in Textonuevo:\n",
    "    Textonuevo.count('a')\n",
    "    Textonuevo.count('e')\n",
    "    Textonuevo.count('i')\n",
    "    Textonuevo.count('o')\n",
    "    Textonuevo.count('u')\n",
    "print(f'Le leta a aparece {Textonuevo.count('a')}')\n",
    "print(f'Le leta e aparece {Textonuevo.count('e')}')\n",
    "print(f'Le leta i aparece {Textonuevo.count('i')}')\n",
    "print(f'Le leta o aparece {Textonuevo.count('o')}')\n",
    "print(f'Le leta u aparece {Textonuevo.count('u')}')\n",
    "\n",
    "\n",
    "        "
   ]
  },
  {
   "cell_type": "markdown",
   "metadata": {},
   "source": [
    "#### 8. Dada la cadena `\"Python\"`, usa un bucle `for` para imprimir los caracteres en orden inverso (`n`, `o`, `h`, `t`, `y`, `P`).\n"
   ]
  },
  {
   "cell_type": "code",
   "execution_count": 125,
   "metadata": {},
   "outputs": [
    {
     "name": "stdout",
     "output_type": "stream",
     "text": [
      "n\n",
      "o\n",
      "h\n",
      "t\n",
      "y\n",
      "P\n"
     ]
    }
   ],
   "source": [
    "Textor = \"Python\"\n",
    "Textor = reversed(Textor)\n",
    "for letra in Textor:\n",
    "    print(letra)\n",
    "    "
   ]
  },
  {
   "cell_type": "markdown",
   "metadata": {},
   "source": [
    "#### 9. Dada la lista `[1, 2, 3, 4, 5]`, multiplica todos sus elementos usando un bucle `for` y almacena los resultados en una lista nueva. \n"
   ]
  },
  {
   "cell_type": "code",
   "execution_count": 127,
   "metadata": {},
   "outputs": [
    {
     "name": "stdout",
     "output_type": "stream",
     "text": [
      "[2, 4, 6, 8, 10]\n"
     ]
    }
   ],
   "source": [
    "NumerosL = [1, 2, 3, 4, 5]\n",
    "Nuevalista = []\n",
    "for numero in NumerosL:\n",
    "    Nuevalista.append(numero*2)\n",
    "print(Nuevalista)\n"
   ]
  },
  {
   "cell_type": "markdown",
   "metadata": {},
   "source": [
    "#### 10. Dada la lista `[1, 2, 3, 4, 5, 6, 7, 8, 9, 10]`, utiliza un bucle `for` para contar cuántos números son pares y cuántos son impares."
   ]
  },
  {
   "cell_type": "code",
   "execution_count": 141,
   "metadata": {},
   "outputs": [
    {
     "name": "stdout",
     "output_type": "stream",
     "text": [
      "Hay 5 pares\n",
      "Hay 5 impares\n"
     ]
    }
   ],
   "source": [
    "NumerosD = [1, 2, 3, 4, 5, 6, 7, 8, 9, 10]\n",
    "Pares = 0\n",
    "Impares = 0\n",
    "for numero in NumerosD:\n",
    "    if numero % 2==0:\n",
    "        Pares +=1\n",
    "    else:\n",
    "        Impares +=1\n",
    "print(f'Hay {Pares} pares')\n",
    "print(f'Hay {Impares} impares')"
   ]
  },
  {
   "cell_type": "markdown",
   "metadata": {},
   "source": [
    "#### 11. Escribe un programa que solicite al usuario un número entero positivo (`n`) y calcule la suma de todos los números primos menores o iguales a `n`. Utiliza un bucle `for` para iterar sobre cada número y verifica si es primo."
   ]
  },
  {
   "cell_type": "code",
   "execution_count": 145,
   "metadata": {},
   "outputs": [
    {
     "name": "stdout",
     "output_type": "stream",
     "text": [
      "La suma de los numeros primos menores que 4 es 5\n",
      "El 4 es primo:False\n"
     ]
    }
   ],
   "source": [
    "Numeroint = int(input('Introduce un numero entero positivo:'))\n",
    "sumnumerosprimos = 0\n",
    "\n",
    "for n in range(2,Numeroint+1):\n",
    "    primo = True\n",
    "    for m in range(2,n):\n",
    "        if n % m == 0:\n",
    "            primo = False\n",
    "            break\n",
    "    if primo:\n",
    "        sumnumerosprimos += n \n",
    "        \n",
    "print(f'La suma de los numeros primos menores que {Numeroint} es {sumnumerosprimos}')\n",
    "for n  in range(2,Numeroint+1):\n",
    "    primo = True\n",
    "    for m in range(2,n):\n",
    "        if n % m == 0:\n",
    "            primo = False\n",
    "            break\n",
    "print(f'El {Numeroint} es primo:{primo}')"
   ]
  },
  {
   "cell_type": "markdown",
   "metadata": {},
   "source": [
    "#### 12. Escribe un programa que solicite al usuario un número entero positivo (`n`) y luego imprima un patrón de asteriscos como el siguiente ejemplo para `n = 5`:"
   ]
  },
  {
   "cell_type": "code",
   "execution_count": 148,
   "metadata": {},
   "outputs": [
    {
     "name": "stdout",
     "output_type": "stream",
     "text": [
      "*\n",
      "**\n",
      "***\n",
      "****\n",
      "*****\n",
      "******\n"
     ]
    }
   ],
   "source": [
    "Numeroint1 = int(input((\"Escribe un numero entero positivo:\")))\n",
    "for n in range(1, Numeroint1 +1):\n",
    "    for m in range(n):\n",
    "        print('*',end=(''))\n",
    "    print('') \n",
    "      \n"
   ]
  },
  {
   "cell_type": "markdown",
   "metadata": {},
   "source": [
    "#### 13. Dado un texto, utiliza un bucle `for` para contar cuántas veces aparece cada palabra en el texto. Ignora mayúsculas/minúsculas y los signos de puntuación."
   ]
  },
  {
   "cell_type": "code",
   "execution_count": 153,
   "metadata": {},
   "outputs": [
    {
     "name": "stdout",
     "output_type": "stream",
     "text": [
      "la palabra aparece 4 veces\n"
     ]
    }
   ],
   "source": [
    "Textoinv = 'hola soy edu feliz navidad, Hola soy Ana Feliz año, Hola soy Adri encantado hola,'\n",
    "Textoinv = Textoinv.lower()\n",
    "Palabra = input('Introduce la palabra que quieras buscar')\n",
    "for palabra in Textoinv:\n",
    "    Textoinv.count(Palabra)\n",
    "print(f'la palabra aparece {Textoinv.count(Palabra)} veces')"
   ]
  },
  {
   "cell_type": "markdown",
   "metadata": {},
   "source": [
    "#### 14. Escribe un programa que solicite al usuario dos números enteros positivos (`inicio` y `fin`, donde `inicio <= fin`) y luego calcule la suma de los números pares y la suma de los números impares en ese rango. Utiliza un bucle `for` para iterar sobre cada número y una estructura `if-else` para clasificar y sumar los números pares e impares."
   ]
  },
  {
   "cell_type": "code",
   "execution_count": 172,
   "metadata": {},
   "outputs": [
    {
     "name": "stdout",
     "output_type": "stream",
     "text": [
      "Este numero 0 es el inicio\n",
      "Este numero 10 es el fin\n",
      "La suma de todos los numero pares del rango es: 30\n",
      "Los numero pares existentes en el rango son :[0, 2, 4, 6, 8, 10]\n",
      "La suma de todos los numero impares del rango es: 25\n",
      "Los numero impares existentes en el rango son :[1, 3, 5, 7, 9]\n"
     ]
    }
   ],
   "source": [
    "Inicio = int(input('Introduce el número de inicio: '))\n",
    "print(f'Este numero {Inicio} es el inicio')\n",
    "Fin = int(input('Introduce el número de fin: '))\n",
    "print(f'Este numero {Fin} es el fin')\n",
    "Sumpar = 0\n",
    "Listapares = []\n",
    "Sumimpar = 0  \n",
    "Listaimpares = []\n",
    "if Inicio <= Fin:\n",
    "    for n in range(Inicio,Fin +1):\n",
    "        if n % 2==0:\n",
    "           Listapares.append(n)\n",
    "           Sumpar += n\n",
    "    \n",
    "        else:\n",
    "            Sumimpar += n\n",
    "            Listaimpares.append(n)\n",
    "else:\n",
    "    print('Al ser el numero de incio mayor que el fin no se realiza operacion alguna')\n",
    "\n",
    "print(f'La suma de todos los numero pares del rango es: {Sumpar}')\n",
    "print(f'Los numero pares existentes en el rango son :{Listapares}')\n",
    "print(f'La suma de todos los numero impares del rango es: {Sumimpar}')\n",
    "print(f'Los numero impares existentes en el rango son :{Listaimpares}')"
   ]
  },
  {
   "cell_type": "markdown",
   "metadata": {},
   "source": [
    "#### 15. Escribe un programa que solicite al usuario un número entero positivo (`n`) y luego identifique todos los números primos menores o iguales a `n`. Para cada número, imprime si es primo o no usando un bucle `for` y una estructura `if-else` para verificar la condición de primalidad."
   ]
  },
  {
   "cell_type": "code",
   "execution_count": 174,
   "metadata": {},
   "outputs": [
    {
     "name": "stdout",
     "output_type": "stream",
     "text": [
      "El numero introducido por el ususario es 8 \n",
      "Los numeros primos menores o iguales a 8 son [2, 3, 5, 7]\n",
      "El 8 es primo:False\n"
     ]
    }
   ],
   "source": [
    "Numeroint2 = int(input('Introduce un numero entero positivo:'))\n",
    "print(f'El numero introducido por el ususario es {Numeroint2} ')\n",
    "Numerosprimos2 = []\n",
    "for n  in range(2,Numeroint2+1):\n",
    "    primo = True\n",
    "    for m in range(2,n):\n",
    "        if n % m == 0:\n",
    "            primo = False\n",
    "            break\n",
    "    if primo:\n",
    "        Numerosprimos2.append(n)\n",
    "print(f'Los numeros primos menores o iguales a {Numeroint2} son {Numerosprimos2}')\n",
    "for n  in range(2,Numeroint2+1):\n",
    "    primo = True\n",
    "    for m in range(2,n):\n",
    "        if n % m == 0:\n",
    "            primo = False\n",
    "            break\n",
    "print(f'El {Numeroint2} es primo:{primo}')"
   ]
  },
  {
   "cell_type": "markdown",
   "metadata": {},
   "source": [
    "#### 16.Dada una lista de precios `[100, 200, 300, 400, 500]`, aplica un descuento del 10% a todos los precios mayores a `250`. Imprime la lista actualizada de precios después de aplicar el descuento utilizando un bucle `for`. "
   ]
  },
  {
   "cell_type": "code",
   "execution_count": 175,
   "metadata": {},
   "outputs": [
    {
     "data": {
      "text/plain": [
       "[100, 200, 270.0, 360.0, 450.0]"
      ]
     },
     "execution_count": 175,
     "metadata": {},
     "output_type": "execute_result"
    }
   ],
   "source": [
    "Lista_precios=[100, 200, 300, 400, 500]\n",
    "Lista_actualiza=[]\n",
    "for precio in Lista_precios:\n",
    "    if precio > 250:\n",
    "        Precio_actualizado= precio-precio * 0.1 \n",
    "        Lista_actualiza.append(Precio_actualizado)\n",
    "    else:\n",
    "        Lista_actualiza.append(precio)\n",
    "\n",
    "Lista_actualiza"
   ]
  },
  {
   "cell_type": "markdown",
   "metadata": {},
   "source": [
    "#### 17. Dada una lista de calificaciones de estudiantes `[85, 92, 78, 90, 88]`, clasifica a cada estudiante como \"Aprobado\" si la calificación es mayor o igual a `80` y como \"Reprobado\" si es menor a `80`. Imprime el nombre de cada estudiante junto con su estado utilizando un bucle `for` y una estructura `if-else`.\n"
   ]
  },
  {
   "cell_type": "code",
   "execution_count": 176,
   "metadata": {},
   "outputs": [
    {
     "name": "stdout",
     "output_type": "stream",
     "text": [
      "Los alumnos aprobados son [85, 92, 90, 88]\n",
      "Los alumnos aprobados son [78]\n"
     ]
    }
   ],
   "source": [
    "Calificaciones = [85, 92, 78, 90, 88]\n",
    "Aprobados=[]\n",
    "Reprobados=[]\n",
    "for calificacion in Calificaciones:\n",
    "    if calificacion >= 80:\n",
    "        Aprobados.append(calificacion)\n",
    "    else:\n",
    "        Reprobados.append(calificacion)\n",
    "print(f'Los alumnos aprobados son {Aprobados}')\n",
    "print(f'Los alumnos aprobados son {Reprobados}')"
   ]
  },
  {
   "cell_type": "markdown",
   "metadata": {},
   "source": [
    "\n",
    "#### 18. Escribe un programa que solicite al usuario dos números enteros positivos (`inicio`, `fin`) y otro número entero positivo (`divisor`). Encuentra el número más grande en el rango desde `inicio` hasta `fin` que sea divisible por `divisor`. Utiliza un bucle `for` y una estructura `if-else` para verificar y mantener el registro del número más grande divisible por el divisor dado.\n"
   ]
  },
  {
   "cell_type": "markdown",
   "metadata": {},
   "source": []
  },
  {
   "cell_type": "code",
   "execution_count": 179,
   "metadata": {},
   "outputs": [
    {
     "name": "stdout",
     "output_type": "stream",
     "text": [
      "Numero introducido inicio :0\n",
      "Numero introducido fin :20\n",
      "Numero introducido divisor :20\n",
      "El número más grande divisible por 20 es 20.\n"
     ]
    }
   ],
   "source": [
    "Inicio = int(input('Introduce el número de inicio: '))\n",
    "print(f'Numero introducido inicio :{Inicio}')\n",
    "Fin = int(input('Introduce el número de fin: '))\n",
    "print(f'Numero introducido fin :{Fin}')\n",
    "Divisor = int(input('Introduce el divisor: '))\n",
    "print(f'Numero introducido divisor :{Divisor}')\n",
    "\n",
    "Max_divisor = 0\n",
    "\n",
    "for n in range(Inicio, Fin +1):\n",
    "    if n % Divisor == 0:\n",
    "        if n > Max_divisor:\n",
    "            Max_divisor = n\n",
    "\n",
    "if Max_divisor != 0:\n",
    "    print(f\"El número más grande divisible por {Divisor} es {Max_divisor}.\")\n",
    "else:\n",
    "    print(f\"No hay números divisibles por {Divisor} en el rango\")\n",
    "        "
   ]
  }
 ],
 "metadata": {
  "kernelspec": {
   "display_name": "hackio",
   "language": "python",
   "name": "python3"
  },
  "language_info": {
   "codemirror_mode": {
    "name": "ipython",
    "version": 3
   },
   "file_extension": ".py",
   "mimetype": "text/x-python",
   "name": "python",
   "nbconvert_exporter": "python",
   "pygments_lexer": "ipython3",
   "version": "3.12.3"
  }
 },
 "nbformat": 4,
 "nbformat_minor": 2
}
