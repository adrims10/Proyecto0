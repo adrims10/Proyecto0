{
 "cells": [
  {
   "cell_type": "markdown",
   "metadata": {},
   "source": [
    "\n",
    "<div style=\"text-align: center;\">\n",
    "  <img src=\"https://github.com/Hack-io-Data/Imagenes/blob/main/01-LogosHackio/logo_celeste@4x.png?raw=true\" alt=\"esquema\" />\n",
    "</div>"
   ]
  },
  {
   "cell_type": "markdown",
   "metadata": {},
   "source": [
    "#### 1. Escribe una función sin parámetros que imprima el siguiente mensaje \"¡Hola! Bienvenido.\"\n"
   ]
  },
  {
   "cell_type": "code",
   "execution_count": 57,
   "metadata": {},
   "outputs": [],
   "source": [
    "def Bienvenida():\n",
    "    \"\"\"  Esta funcion print un mensaje de Bienvenida\n",
    "\n",
    "    Returns:\n",
    "        str: Devuelve un Mensaje de Bienvenida\n",
    "    \"\"\"\n",
    "    return '¡Hola! Bienvenida.'\n"
   ]
  },
  {
   "cell_type": "code",
   "execution_count": 58,
   "metadata": {},
   "outputs": [
    {
     "data": {
      "text/plain": [
       "'¡Hola! Bienvenida.'"
      ]
     },
     "execution_count": 58,
     "metadata": {},
     "output_type": "execute_result"
    }
   ],
   "source": [
    "Bienvenida()"
   ]
  },
  {
   "cell_type": "markdown",
   "metadata": {},
   "source": [
    "#### 2. Escribe una función que reciba dos parámetros y devuelva la suma de ambos.\n"
   ]
  },
  {
   "cell_type": "code",
   "execution_count": 4,
   "metadata": {},
   "outputs": [],
   "source": [
    "def suma (numero1,numero2):\n",
    "    \"\"\"Es una funcion que suma dos numeros\n",
    "\n",
    "    Args:\n",
    "        numero1 (int o float): numero_introducido1\n",
    "        numero2 (int o floar): numero_introducido2\n",
    "    Returns:\n",
    "        int o float : devuelve la suma de los dos numeros\n",
    "    \"\"\"\n",
    "    return numero1 + numero2\n",
    "   "
   ]
  },
  {
   "cell_type": "code",
   "execution_count": 5,
   "metadata": {},
   "outputs": [
    {
     "data": {
      "text/plain": [
       "5"
      ]
     },
     "execution_count": 5,
     "metadata": {},
     "output_type": "execute_result"
    }
   ],
   "source": [
    "suma(3,2)"
   ]
  },
  {
   "cell_type": "code",
   "execution_count": 23,
   "metadata": {},
   "outputs": [
    {
     "data": {
      "text/plain": [
       "7.300000000000001"
      ]
     },
     "execution_count": 23,
     "metadata": {},
     "output_type": "execute_result"
    }
   ],
   "source": [
    "suma(3.1,4.2)"
   ]
  },
  {
   "cell_type": "markdown",
   "metadata": {},
   "source": [
    "#### 3. Escribe una función que reciba un número y devuelva True si es par, False si no lo es."
   ]
  },
  {
   "cell_type": "code",
   "execution_count": 2,
   "metadata": {},
   "outputs": [],
   "source": [
    "def par(numero):\n",
    "    \"\"\"Funcion a la cual le introduces un numero y te dice si es par o no lo es\n",
    "\n",
    "    Args:\n",
    "        numero (int): numero_introducido\n",
    "\n",
    "    Returns:\n",
    "        bool: devolvera verdadero o falso\n",
    "    \"\"\"\n",
    "\n",
    "    return numero % 2==0\n"
   ]
  },
  {
   "cell_type": "code",
   "execution_count": 3,
   "metadata": {},
   "outputs": [
    {
     "data": {
      "text/plain": [
       "False"
      ]
     },
     "execution_count": 3,
     "metadata": {},
     "output_type": "execute_result"
    }
   ],
   "source": [
    "par(3)"
   ]
  },
  {
   "cell_type": "markdown",
   "metadata": {},
   "source": [
    "#### 4. Escribe un función que devuelva un saludo personalizado a una persona dado su nombre. \n"
   ]
  },
  {
   "cell_type": "code",
   "execution_count": 7,
   "metadata": {},
   "outputs": [],
   "source": [
    "def saluda(Nombre):\n",
    "    \"\"\"Esta funcion printea un mensaje de saludo personalizado\n",
    "\n",
    "    Args:\n",
    "        Nombre (str): Introde el nombre de quien quieras saludar\n",
    "\n",
    "    Returns:\n",
    "        str: Nos devolvera un saludo personalizado\n",
    "    \"\"\"\n",
    "    return f'Hola {Nombre}'"
   ]
  },
  {
   "cell_type": "code",
   "execution_count": 11,
   "metadata": {},
   "outputs": [
    {
     "data": {
      "text/plain": [
       "'Hola Adri'"
      ]
     },
     "execution_count": 11,
     "metadata": {},
     "output_type": "execute_result"
    }
   ],
   "source": [
    "saluda('Adri')"
   ]
  },
  {
   "cell_type": "code",
   "execution_count": 12,
   "metadata": {},
   "outputs": [
    {
     "data": {
      "text/plain": [
       "'Hola Ana'"
      ]
     },
     "execution_count": 12,
     "metadata": {},
     "output_type": "execute_result"
    }
   ],
   "source": [
    "saluda('Ana')"
   ]
  },
  {
   "cell_type": "code",
   "execution_count": 13,
   "metadata": {},
   "outputs": [
    {
     "data": {
      "text/plain": [
       "'Hola Jeancha'"
      ]
     },
     "execution_count": 13,
     "metadata": {},
     "output_type": "execute_result"
    }
   ],
   "source": [
    "saluda('Jeancha')"
   ]
  },
  {
   "cell_type": "markdown",
   "metadata": {},
   "source": [
    "#### 5. Escribe una función que sume todos los números que reciba como argumento. La función debe recibir una cantidad variable de argumentos y devolver la suma de todos ellos."
   ]
  },
  {
   "cell_type": "code",
   "execution_count": 17,
   "metadata": {},
   "outputs": [
    {
     "name": "stdout",
     "output_type": "stream",
     "text": [
      "Esta es la suma de los argumentos variables = 12\n"
     ]
    }
   ],
   "source": [
    "def sumavariable (*arg):\n",
    "    \"\"\"Esta funcion tiene argumentos variables que se van a sumar todos ellos\n",
    "    Params:\n",
    "        *args(int,float): numeros que vamos a introducir\n",
    "    Returns:\n",
    "        int, float: Nos va a devolver la suma de los agumentos introducidos\n",
    "    \"\"\"\n",
    "    return sum(arg)\n",
    "sumaarg = sumavariable(2,8,2)\n",
    "print(f'Esta es la suma de los argumentos variables = {sumaarg}')"
   ]
  },
  {
   "cell_type": "code",
   "execution_count": 20,
   "metadata": {},
   "outputs": [
    {
     "name": "stdout",
     "output_type": "stream",
     "text": [
      "Esta es la suma de los argumentos variables = 26.5\n"
     ]
    }
   ],
   "source": [
    "sumaarg = sumavariable(2.1,8.9,2.5,4,4,5)\n",
    "print(f'Esta es la suma de los argumentos variables = {sumaarg}')"
   ]
  },
  {
   "cell_type": "markdown",
   "metadata": {},
   "source": [
    "#### 6. Escribe una función que cuente las letras de una palabra y devuelva un diccionario con la cantidad de veces que se repite cada letra \n"
   ]
  },
  {
   "cell_type": "code",
   "execution_count": 25,
   "metadata": {},
   "outputs": [],
   "source": [
    "def contarletras(palabra):\n",
    "    \"\"\"FUncion que vamos a ultilizar para contar las veces que aparece una letra.\n",
    "\n",
    "    Args:\n",
    "        palabra (str): Palabra a la cual le vamos a contar el numero de veces que aprece la letra\n",
    "\n",
    "    Returns:\n",
    "        _Diccionario : Se devolvera un diccionario con Las letras y como clave el numero de vece que aparece en el str la letra\n",
    "    \"\"\"\n",
    "    Diccionario = {}\n",
    "    for letra in palabra:\n",
    "        if letra in Diccionario:\n",
    "            Diccionario[letra] += 1\n",
    "        else:\n",
    "            Diccionario[letra] = 1\n",
    "    return Diccionario\n"
   ]
  },
  {
   "cell_type": "code",
   "execution_count": 26,
   "metadata": {},
   "outputs": [
    {
     "name": "stdout",
     "output_type": "stream",
     "text": [
      "{'e': 4, 's': 2, 't': 2, 'r': 1, 'n': 1, 'o': 4, 'c': 1, 'l': 1, 'i': 2, 'd': 2, 'm': 1, 'a': 1}\n"
     ]
    }
   ],
   "source": [
    "palabra = \"esternocleidomastoideo\"\n",
    "resultado = contarletras(palabra)\n",
    "print(resultado)"
   ]
  },
  {
   "cell_type": "markdown",
   "metadata": {},
   "source": [
    "#### 7. Escribe un función recursiva para calcular el factorial de un número entero no negativo."
   ]
  },
  {
   "cell_type": "code",
   "execution_count": 48,
   "metadata": {},
   "outputs": [],
   "source": [
    "def numerofactorial(f):\n",
    "    \"\"\"Funcion que nos definira el factorial de un numero f\n",
    "\n",
    "    Args:\n",
    "        f (int): Numero del que queremos el factorial\n",
    "\n",
    "    Returns:\n",
    "        str : Nos devolvera el numero factorial del numero introducido f\n",
    "    \"\"\"\n",
    "    if f == 0:\n",
    "        return 1\n",
    "    else:\n",
    "        return f *numerofactorial(f - 1)"
   ]
  },
  {
   "cell_type": "code",
   "execution_count": 50,
   "metadata": {},
   "outputs": [
    {
     "data": {
      "text/plain": [
       "6"
      ]
     },
     "execution_count": 50,
     "metadata": {},
     "output_type": "execute_result"
    }
   ],
   "source": [
    "numerofactorial(3)"
   ]
  },
  {
   "cell_type": "markdown",
   "metadata": {},
   "source": [
    "#### 8. Escribe una función que tome dos parámetros: `figura` (una cadena que puede ser `\"rectangulo\"`, `\"circulo\"` o `\"triangulo\"`) y `datos` (una tupla con los datos necesarios para calcular el área de la figura). "
   ]
  },
  {
   "cell_type": "code",
   "execution_count": 32,
   "metadata": {},
   "outputs": [],
   "source": [
    "def area(Figura, Datos):\n",
    "    \"\"\"Es una funcion que dadas un str con figuras y una tupla con datos para calcular las areas\n",
    "\n",
    "    Args:\n",
    "        Figura (str): nombre de la figura que queremos calcular su area\n",
    "        Datos (tupla): Datos de la figura para su posible calculo del area\n",
    "\n",
    "    Returns:\n",
    "        int: nos devolvera el numero que corresponde al dato del area de las figuras\n",
    "    \"\"\"\n",
    "    if Figura == 'rectangulo':\n",
    "        base, altura = Datos\n",
    "        return base * altura\n",
    "    elif Figura == 'circulo':\n",
    "        radio = Datos\n",
    "        return  3.1416 * radio**2\n",
    "    elif Figura == 'triangulo':\n",
    "        base, altura = Datos\n",
    "        return (base * altura) / 2\n",
    "    else:\n",
    "        return 'No es una figura valida'\n",
    "\n",
    "Figura = 'rectangulo','circulo','triangulo'\n",
    "Datos = ('base', 'altura','radio')\n",
    "    \n"
   ]
  },
  {
   "cell_type": "code",
   "execution_count": 34,
   "metadata": {},
   "outputs": [
    {
     "name": "stdout",
     "output_type": "stream",
     "text": [
      "El area del circulo es 12.5664\n",
      "El area del rectangulo es 6\n",
      "El area del triangulo  es 3.0\n"
     ]
    }
   ],
   "source": [
    "print(f'El area del circulo es {area('circulo',(2))}')\n",
    "print(f'El area del rectangulo es {area('rectangulo',(3,2))}')\n",
    "print(f'El area del triangulo  es {area('triangulo',(3,2))}')"
   ]
  },
  {
   "cell_type": "markdown",
   "metadata": {},
   "source": [
    "#### 9. Escribe una función que tome una lista de números como parámetro y devuelva el número más grande de la lista. No utilices la función `max()` de Python en tu solución."
   ]
  },
  {
   "cell_type": "code",
   "execution_count": 51,
   "metadata": {},
   "outputs": [
    {
     "name": "stdout",
     "output_type": "stream",
     "text": [
      "<class 'int'>\n",
      "El valor maximo de la lista es 5\n"
     ]
    }
   ],
   "source": [
    "def funcion(lista):\n",
    "    \"\"\"Funcion la cual nos devolvera el maximo de una lista sin utilizar max()\n",
    "\n",
    "    Args:\n",
    "        lista: valores numericos dentro de la lista para ordenarlos\n",
    "\n",
    "    Returns:\n",
    "        int: El maximo valor que existe dentro de la lista\n",
    "    \"\"\"\n",
    "    Maximo = lista[0]\n",
    "\n",
    "    for n in lista:\n",
    "        if n > Maximo:\n",
    "            Maximo = n\n",
    "    return Maximo \n",
    "        \n",
    "lista = [4,2,5] \n",
    "funcion(lista)\n",
    "print(type(funcion(lista)))\n",
    "print(f'El valor maximo de la lista es {funcion(lista)}')\n"
   ]
  },
  {
   "cell_type": "markdown",
   "metadata": {},
   "source": [
    "#### 10. Escribe una función que tome una cadena como parámetro un texto y devuelva `True` si la cadena es un palíndromo (se lee igual de izquierda a derecha que de derecha a izquierda), y `False` en caso contrario. Ignora los espacios y considera mayúsculas y minúsculas de manera insensible.\n"
   ]
  },
  {
   "cell_type": "code",
   "execution_count": 52,
   "metadata": {},
   "outputs": [
    {
     "data": {
      "text/plain": [
       "True"
      ]
     },
     "execution_count": 52,
     "metadata": {},
     "output_type": "execute_result"
    }
   ],
   "source": [
    "def palindromo(textoinventado):\n",
    "    \"\"\"Funcion la cual dado un texto ignorando espacios y signos de puntuacion nos dira si es palindromo o no\n",
    "\n",
    "    Args:\n",
    "        textoinventado (str): cadena de texto a comprobar so es palindromo o no\n",
    "\n",
    "    Returns:\n",
    "        boll: Nos devolver si es palindromo o no lo es, True o False\n",
    "    \"\"\"\n",
    "    textoinventado = textoinventado.replace(' ','').lower()\n",
    "    iniciotext = 0\n",
    "    finaltext = len(textoinventado)-1\n",
    "    while iniciotext < finaltext:\n",
    "        if textoinventado[iniciotext] != textoinventado[finaltext]:\n",
    "            return False\n",
    "        return True\n",
    "\n",
    "texto3 = \"Adrian Moreno Sanchez\"\n",
    "texto4 = 'asac casa'\n",
    "texto5 = 'h j jh '\n",
    "\n",
    "palindromo(texto5)"
   ]
  },
  {
   "cell_type": "code",
   "execution_count": 39,
   "metadata": {},
   "outputs": [
    {
     "data": {
      "text/plain": [
       "True"
      ]
     },
     "execution_count": 39,
     "metadata": {},
     "output_type": "execute_result"
    }
   ],
   "source": [
    "palindromo(texto4)"
   ]
  },
  {
   "cell_type": "code",
   "execution_count": 40,
   "metadata": {},
   "outputs": [
    {
     "data": {
      "text/plain": [
       "False"
      ]
     },
     "execution_count": 40,
     "metadata": {},
     "output_type": "execute_result"
    }
   ],
   "source": [
    "palindromo(texto3)"
   ]
  },
  {
   "cell_type": "markdown",
   "metadata": {},
   "source": [
    "#### 11. Escribe una función que tome una cadena como parámetro y devuelva dos valores: la cantidad de vocales y la cantidad de consonantes presentes en la cadena. Ignora los espacios y considera mayúsculas y minúsculas de manera insensible.\n"
   ]
  },
  {
   "cell_type": "code",
   "execution_count": 53,
   "metadata": {},
   "outputs": [
    {
     "name": "stdout",
     "output_type": "stream",
     "text": [
      "<class 'tuple'>\n",
      "Hay (6, 8) vocales y consonantes en \"me gusta la pizza\"\n"
     ]
    }
   ],
   "source": [
    "def totalvocalesyconso(cadenapalabras):\n",
    "    \"\"\"funcion que nos determinara cuantas vocales y cuantas consonante hay en un str considerando insensibles mayusculas y minusculas\n",
    "\n",
    "    Args:\n",
    "        cadenapalabras (str): cadena de palabras para diferenciar sus letras\n",
    "\n",
    "    Returns:\n",
    "        tupla: Devolvera los valores de total vocales y total consonantes en el str\n",
    "    \"\"\"\n",
    "    vocales= \"aeiou\"\n",
    "    consonantes = \"bcdfghjklmnpqrstvwxyz\"\n",
    "    contador_de_vocales = 0\n",
    "    contador_de_consonante = 0\n",
    "\n",
    "    for letra in cadenapalabras.lower():\n",
    "        if letra in vocales: \n",
    "            contador_de_vocales +=1\n",
    "        elif letra in consonantes:\n",
    "            contador_de_consonante += 1\n",
    "        else:\n",
    "            pass\n",
    "    return  contador_de_vocales, contador_de_consonante\n",
    "\n",
    "\n",
    "Texto1 = 'me gusta la pizza'\n",
    "totalvocalesyconso(Texto1)\n",
    "print(f'Hay {totalvocalesyconso(Texto1)} vocales y consonantes en \"{Texto1}\"')\n",
    "    \n"
   ]
  },
  {
   "cell_type": "code",
   "execution_count": null,
   "metadata": {},
   "outputs": [],
   "source": []
  }
 ],
 "metadata": {
  "kernelspec": {
   "display_name": "hackio",
   "language": "python",
   "name": "python3"
  },
  "language_info": {
   "codemirror_mode": {
    "name": "ipython",
    "version": 3
   },
   "file_extension": ".py",
   "mimetype": "text/x-python",
   "name": "python",
   "nbconvert_exporter": "python",
   "pygments_lexer": "ipython3",
   "version": "3.12.3"
  }
 },
 "nbformat": 4,
 "nbformat_minor": 2
}
