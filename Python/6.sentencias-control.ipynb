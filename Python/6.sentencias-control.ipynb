{
 "cells": [
  {
   "cell_type": "markdown",
   "metadata": {},
   "source": [
    "<div style=\"text-align: center;\">\n",
    "  <img src=\"https://github.com/Hack-io-Data/Imagenes/blob/main/01-LogosHackio/logo_celeste@4x.png?raw=true\" alt=\"logo hack(io)\" />\n",
    "</div>"
   ]
  },
  {
   "cell_type": "markdown",
   "metadata": {},
   "source": [
    "#### 1. Escribe un programa que determine si un número es par o impar.\n",
    "\n"
   ]
  },
  {
   "cell_type": "code",
   "execution_count": 67,
   "metadata": {},
   "outputs": [
    {
     "name": "stdout",
     "output_type": "stream",
     "text": [
      "El numero 2 es par\n"
     ]
    }
   ],
   "source": [
    "numero = input('introduce el numero:')\n",
    "numerointroducido = int(numero)\n",
    "if (numerointroducido % 2==0):\n",
    "    print(f'El numero {numerointroducido} es par')\n",
    "else:\n",
    "    print(f'El numero {numerointroducido} es impar')\n",
    "    "
   ]
  },
  {
   "cell_type": "markdown",
   "metadata": {},
   "source": [
    "#### 2. Genera un programa que nos diga si es de noche, de día o tarde según la hora proporcionada por el usuario."
   ]
  },
  {
   "cell_type": "markdown",
   "metadata": {},
   "source": [
    "Dia tiene 24 horas\n",
    "Mañana  es desde las 7 incluidas hasta las 12 no incluidas\n",
    "Tarde es desde las 12 incluidas hasta las 21 no incluidas\n",
    "Noche es desde las 21 incluidas hasta las 7 no incluidas\n"
   ]
  },
  {
   "cell_type": "code",
   "execution_count": 1,
   "metadata": {},
   "outputs": [
    {
     "name": "stdout",
     "output_type": "stream",
     "text": [
      "Es por la tarde\n"
     ]
    }
   ],
   "source": [
    "Hora = int(input('Introduce una hora:'))\n",
    "\n",
    "if Hora >=7 and Hora <12:\n",
    "    print('Es por la mañana')\n",
    "elif Hora >=12 and Hora <21:\n",
    "    print('Es por la tarde')\n",
    "elif Hora >=21 and Hora <=24:\n",
    "    print('Es por la noche')\n",
    "elif Hora <7 and Hora >=0:\n",
    "    print('Es por la noche')\n",
    "elif Hora >=7 and Hora <12:\n",
    "    print('Es por la mañana')\n",
    "else:\n",
    "    print('No has introducido bien la hora')"
   ]
  },
  {
   "cell_type": "markdown",
   "metadata": {},
   "source": [
    "#### 3. Dado un nombre imprime un saludo personalizado."
   ]
  },
  {
   "cell_type": "code",
   "execution_count": 38,
   "metadata": {},
   "outputs": [
    {
     "name": "stdout",
     "output_type": "stream",
     "text": [
      "Hola encantado de conocerte Ana\n"
     ]
    }
   ],
   "source": [
    "Nombre = input('Dime tu nombre:')\n",
    "print(f'Hola encantado de conocerte {Nombre}')"
   ]
  },
  {
   "cell_type": "markdown",
   "metadata": {},
   "source": [
    "#### 4. Escribe un programa que determine qué calificación en texto tiene un alumno en base a su calificación numérica. Las reglas de calificación son: \n",
    "\n",
    "- 0 - 69 insuficiente\n",
    "\n",
    "- 70 - 79 bien\n",
    "\n",
    "- 80 - 89 muy bien\n",
    "\n",
    "- 90 - 100 excelente\n"
   ]
  },
  {
   "cell_type": "code",
   "execution_count": 44,
   "metadata": {},
   "outputs": [
    {
     "name": "stdout",
     "output_type": "stream",
     "text": [
      "No has introducido un valor correcto\n"
     ]
    }
   ],
   "source": [
    "Calificacion = int(input('introduce la calificacion del alumno'))\n",
    "\n",
    "if Calificacion >=0 and Calificacion <=69:\n",
    "    print('Insuficiente')\n",
    "elif Calificacion >=70 and Calificacion <=79:\n",
    "    print('Bien')\n",
    "elif Calificacion >=80 and Calificacion <=89:\n",
    "    print('Muy Bien')\n",
    "elif Calificacion >=90 and Calificacion <=100:\n",
    "    print('Excelente')\n",
    "else:\n",
    "    print('No has introducido un valor correcto')"
   ]
  },
  {
   "cell_type": "markdown",
   "metadata": {},
   "source": [
    "#### 5. Escribe un programa que imprima el día de la semana, dado un número del 1 al 7.\n"
   ]
  },
  {
   "cell_type": "code",
   "execution_count": 51,
   "metadata": {},
   "outputs": [
    {
     "name": "stdout",
     "output_type": "stream",
     "text": [
      "Domingo\n"
     ]
    }
   ],
   "source": [
    "Dia = int(input('Introduce un numero del 1 al 7:'))\n",
    "\n",
    "if Dia == 1:\n",
    "    print('Lunes')\n",
    "elif Dia == 2:\n",
    "    print('Martes')\n",
    "elif Dia == 3:\n",
    "    print('Miercoles')\n",
    "elif Dia == 4:\n",
    "    print('Jueves')\n",
    "elif Dia == 5:\n",
    "    print('Viernes')\n",
    "elif Dia == 6:\n",
    "    print('Sabado')\n",
    "elif Dia == 7:\n",
    "    print('Domingo')\n",
    "else:\n",
    "    print('No es un dia de la semana')\n",
    "    "
   ]
  },
  {
   "cell_type": "markdown",
   "metadata": {},
   "source": [
    "#### 6. Escribe un programa que determine si un número es positivo, negativo o cero."
   ]
  },
  {
   "cell_type": "code",
   "execution_count": 54,
   "metadata": {},
   "outputs": [
    {
     "name": "stdout",
     "output_type": "stream",
     "text": [
      "Positivo\n"
     ]
    }
   ],
   "source": [
    "Numero = int(input('Introduce un numero:'))\n",
    "\n",
    "if Numero <0:\n",
    "    print('Negativo')\n",
    "elif Numero ==0:\n",
    "    print('Es cero')\n",
    "else:\n",
    "   print('Positivo')"
   ]
  },
  {
   "cell_type": "markdown",
   "metadata": {},
   "source": [
    "#### 7. Escribe un programa que determine si una persona puede conducir o no. La edad mínima para conducir es 18 años. \n"
   ]
  },
  {
   "cell_type": "code",
   "execution_count": 143,
   "metadata": {},
   "outputs": [
    {
     "name": "stdout",
     "output_type": "stream",
     "text": [
      "Puedes conducir\n"
     ]
    }
   ],
   "source": [
    "Edad_conductor = int(input('Introduce tu edad:'))\n",
    "\n",
    "if Edad_conductor >=18:\n",
    "    print('Puedes conducir')\n",
    "else:\n",
    "    print('No puedes conducir')"
   ]
  },
  {
   "cell_type": "markdown",
   "metadata": {},
   "source": [
    "#### 8. Escribe un programa que determine si un estudiante aprobó o suspendió un examen."
   ]
  },
  {
   "cell_type": "code",
   "execution_count": 56,
   "metadata": {},
   "outputs": [
    {
     "name": "stdout",
     "output_type": "stream",
     "text": [
      "Aprobado\n"
     ]
    }
   ],
   "source": [
    "Nota = int(input('Introduce tu nota:'))\n",
    "if Nota >=5:\n",
    "    print('Aprobado')\n",
    "else:\n",
    "    print('Suspenso')\n"
   ]
  },
  {
   "cell_type": "markdown",
   "metadata": {},
   "source": [
    "#### 9. Escribe un programa que determine si un número es múltiplo de 3 y 5.\n"
   ]
  },
  {
   "cell_type": "code",
   "execution_count": 63,
   "metadata": {},
   "outputs": [
    {
     "name": "stdout",
     "output_type": "stream",
     "text": [
      "Es multiplo de 3 y 5\n"
     ]
    }
   ],
   "source": [
    "numero = input('introduce el numero:')\n",
    "numerointroducido = int(numero)\n",
    "\n",
    "if numerointroducido % 3==0 and numerointroducido % 5==0:\n",
    "    print('Es multiplo de 3 y 5')\n",
    "elif numerointroducido % 3==0:\n",
    "    print('Es multiplo de 3')\n",
    "elif numerointroducido % 5==0:\n",
    "    print('Es multiplo de 5')\n",
    "else: \n",
    "    print('No es multiplo de ninguno de los dos')\n"
   ]
  },
  {
   "cell_type": "markdown",
   "metadata": {},
   "source": [
    "#### 10. Escribe un programa que determine si un número es par o impar.\n"
   ]
  },
  {
   "cell_type": "code",
   "execution_count": 69,
   "metadata": {},
   "outputs": [
    {
     "name": "stdout",
     "output_type": "stream",
     "text": [
      "El numero 3 es impar\n"
     ]
    }
   ],
   "source": [
    "numero = input('introduce el numero:')\n",
    "numerointroducido = int(numero)\n",
    "if (numerointroducido % 2==0):\n",
    "    print(f'El numero {numerointroducido} es par')\n",
    "else:\n",
    "    print(f'El numero {numerointroducido} es impar')"
   ]
  }
 ],
 "metadata": {
  "kernelspec": {
   "display_name": "hackio",
   "language": "python",
   "name": "python3"
  },
  "language_info": {
   "codemirror_mode": {
    "name": "ipython",
    "version": 3
   },
   "file_extension": ".py",
   "mimetype": "text/x-python",
   "name": "python",
   "nbconvert_exporter": "python",
   "pygments_lexer": "ipython3",
   "version": "3.12.3"
  }
 },
 "nbformat": 4,
 "nbformat_minor": 2
}
